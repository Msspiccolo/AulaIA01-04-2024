{
  "nbformat": 4,
  "nbformat_minor": 0,
  "metadata": {
    "colab": {
      "provenance": [],
      "authorship_tag": "ABX9TyPGu1Pj58GYgismuwrCXjjl",
      "include_colab_link": true
    },
    "kernelspec": {
      "name": "python3",
      "display_name": "Python 3"
    },
    "language_info": {
      "name": "python"
    }
  },
  "cells": [
    {
      "cell_type": "markdown",
      "metadata": {
        "id": "view-in-github",
        "colab_type": "text"
      },
      "source": [
        "<a href=\"https://colab.research.google.com/github/Msspiccolo/AulaIA01-04-2024/blob/main/Aula_dia_01_04_2024.ipynb\" target=\"_parent\"><img src=\"https://colab.research.google.com/assets/colab-badge.svg\" alt=\"Open In Colab\"/></a>"
      ]
    },
    {
      "cell_type": "markdown",
      "source": [
        "Instalação da biblioteca spacy"
      ],
      "metadata": {
        "id": "fPkGhaEvxnRH"
      }
    },
    {
      "cell_type": "code",
      "source": [
        "%pip install spacy\n"
      ],
      "metadata": {
        "id": "zXX3NwXdxrgt"
      },
      "execution_count": null,
      "outputs": []
    },
    {
      "cell_type": "code",
      "source": [
        "!python -m spacy download pt_core_news_sm"
      ],
      "metadata": {
        "id": "Wmc6fBQdx65R"
      },
      "execution_count": null,
      "outputs": []
    },
    {
      "cell_type": "code",
      "source": [
        "import spacy"
      ],
      "metadata": {
        "id": "LIcah3R3yaDu"
      },
      "execution_count": null,
      "outputs": []
    },
    {
      "cell_type": "markdown",
      "source": [
        "Carregar a biblioteca spacy"
      ],
      "metadata": {
        "id": "v1WGQl4Zyx9J"
      }
    },
    {
      "cell_type": "code",
      "source": [
        "nlp = spacy.load(\"pt_core_news_sm\")"
      ],
      "metadata": {
        "id": "0dHsCbdmyvg-"
      },
      "execution_count": null,
      "outputs": []
    },
    {
      "cell_type": "code",
      "source": [
        "texto = ''' Demetria Devonne Lovato, popular pelo nome profissional Demi Lovato, nasceu na cidade norte-americana de Albuquerque, Novo México, a 20 de agosto de 1992, sendo descendente de Dianna Bonheur Hart De La Garza e Patrick Lovato, que se separaram em 1994. Após o divórcio, Demi se mudou para Dallas, no Texas, juntamente com sua mãe e irmã mais velha, Dallas Lovato, tendo mais tarde uma meia-irmã mais nova por parte de mãe, Madison De La Garza. A mãe de Demi foi uma das Dallas Cowboys Cheerleaders e gravou música country. Lovato tem ascendência mexicana por parte de pai (com ascendência espanhola e indígena) e inglesa e irlandesa por parte de mãe. Finalizou a escola secundária em abril de 2009.'''.strip()"
      ],
      "metadata": {
        "id": "pxxUcQdjzKyW"
      },
      "execution_count": null,
      "outputs": []
    },
    {
      "cell_type": "code",
      "source": [
        "doc = nlp(texto)"
      ],
      "metadata": {
        "id": "u824o3SyzaSW"
      },
      "execution_count": null,
      "outputs": []
    },
    {
      "cell_type": "code",
      "source": [
        "for entidade in doc.ents:\n",
        "  print(entidade.text, entidade.label_)"
      ],
      "metadata": {
        "colab": {
          "base_uri": "https://localhost:8080/"
        },
        "id": "o-OnYGtZzhqa",
        "outputId": "bf38dcd0-2151-4d48-d6cb-a1101862d369"
      },
      "execution_count": null,
      "outputs": [
        {
          "output_type": "stream",
          "name": "stdout",
          "text": [
            "Demetria Devonne Lovato PER\n",
            "Demi Lovato PER\n",
            "Albuquerque LOC\n",
            "Novo México LOC\n",
            "Dianna Bonheur Hart De La Garza PER\n",
            "Patrick Lovato PER\n",
            "Demi PER\n",
            "Dallas LOC\n",
            "Texas LOC\n",
            "Dallas Lovato PER\n",
            "Madison De La Garza PER\n",
            "Demi LOC\n",
            "Dallas Cowboys Cheerleaders ORG\n",
            "Lovato PER\n"
          ]
        }
      ]
    }
  ]
}